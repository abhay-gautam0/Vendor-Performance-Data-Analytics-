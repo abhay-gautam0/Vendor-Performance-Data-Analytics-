{
 "cells": [
  {
   "cell_type": "code",
   "execution_count": null,
   "id": "7ed0aaf8-434c-4865-8f4c-6cf950d3f95c",
   "metadata": {},
   "outputs": [],
   "source": [
    "import pandas as pd\n",
    "import os\n",
    "from sqlalchemy import create_engine\n",
    "import logging\n",
    "import time\n",
    "logging.basicConfig(\n",
    "    filename=\"logs/ingestion_db.log\" ,\n",
    "    level=logging.DEBUG,\n",
    "    format= \"%(asctime)s - %(levelname)s - %(message)s\",\n",
    "    filemode=\"a\"\n",
    ")\n",
    "\n",
    "engine=create_engine('sqlite:///inventory.db')\n",
    "\n",
    "def ingest_db(df, table_name, engine):\n",
    "     '''This function will ingest the dataframe into database table'''\n",
    "     df.to_sql(table_name, con = engine, if_exists= 'replace', index= False)\n",
    "\n",
    "def load_raw_data():\n",
    "    '''this function will load the CSVs as dataframe and ingest into db'''\n",
    "    start = time.time()\n",
    "    for file in os.listdir('C:/Users/asus/Desktop/project/data/data'):\n",
    "        if'.csv' in file:\n",
    "            df = pd.read_csv('C:/Users/asus/Desktop/project/data/data/'+file)\n",
    "            logging.info(f'Ingesting {file} in db')\n",
    "            ingest_db(df, file[:-4], engine)\n",
    "    end = time.time()\n",
    "    total_time= (end - start)/60\n",
    "    logging.info('**********Ingestion Complete********** ')\n",
    "    logging.info(f'total Time Taken: {total_time}minutes')\n",
    "\n",
    "if __name__== '__main__':\n",
    "     load_raw_data()"
   ]
  }
 ],
 "metadata": {
  "kernelspec": {
   "display_name": "Python 3 (ipykernel)",
   "language": "python",
   "name": "python3"
  },
  "language_info": {
   "codemirror_mode": {
    "name": "ipython",
    "version": 3
   },
   "file_extension": ".py",
   "mimetype": "text/x-python",
   "name": "python",
   "nbconvert_exporter": "python",
   "pygments_lexer": "ipython3",
   "version": "3.12.4"
  }
 },
 "nbformat": 4,
 "nbformat_minor": 5
}
